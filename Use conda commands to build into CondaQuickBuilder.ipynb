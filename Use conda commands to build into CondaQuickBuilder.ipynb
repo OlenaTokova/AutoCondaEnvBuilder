{
 "cells": [
  {
   "cell_type": "markdown",
   "metadata": {},
   "source": [
    "# Useful Conda Commands to Use in CondaQuickBuilder"
   ]
  },
  {
   "cell_type": "raw",
   "metadata": {},
   "source": [
    "C:\\Users\\PowerUser>conda env list -h\n",
    "usage: conda-env-script.py list [-h] [--json] [-v] [-q]\n",
    "\n",
    "List the Conda environments\n",
    "\n",
    "optional arguments:\n",
    "  -h, --help     Show this help message and exit.\n",
    "\n",
    "Output, Prompt, and Flow Control Options:\n",
    "  --json         Report all output as json. Suitable for using conda programmatically.\n",
    "  -v, --verbose  Can be used multiple times. Once for detailed output, twice for INFO logging, thrice for DEBUG logging, four times for TRACE logging.\n",
    "  -q, --quiet    Do not display progress bar.\n",
    "\n",
    "examples:\n",
    "    conda env list\n",
    "    conda env list --json\n",
    "\n",
    "C:\\Users\\PowerUser>conda env list --json"
   ]
  },
  {
   "cell_type": "markdown",
   "metadata": {},
   "source": []
  }
 ],
 "metadata": {
  "kernelspec": {
   "display_name": "nlpapps",
   "language": "python",
   "name": "python3"
  },
  "language_info": {
   "codemirror_mode": {
    "name": "ipython",
    "version": 3
   },
   "file_extension": ".py",
   "mimetype": "text/x-python",
   "name": "python",
   "nbconvert_exporter": "python",
   "pygments_lexer": "ipython3",
   "version": "3.9.18"
  }
 },
 "nbformat": 4,
 "nbformat_minor": 2
}
